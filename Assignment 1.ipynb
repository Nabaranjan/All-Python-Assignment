{
 "cells": [
  {
   "cell_type": "code",
   "execution_count": 2,
   "id": "2a15759b-860f-44e1-9508-ea42f3f8431a",
   "metadata": {},
   "outputs": [
    {
     "name": "stdout",
     "output_type": "stream",
     "text": [
      "[1505, 1540, 1575, 1610, 1645, 1680, 1715, 1750, 1785, 1820, 1855, 1890, 1925, 1960, 1995, 2030, 2065, 2100, 2135, 2170, 2205, 2240, 2275, 2310, 2345, 2380, 2415, 2450, 2485, 2520, 2555, 2590, 2625, 2660, 2695]\n"
     ]
    }
   ],
   "source": [
    "# list to store the numbers\n",
    "result = []\n",
    "\n",
    "#loop through numbers from 1500 to 2700\n",
    "for number in range(1500, 2701):\n",
    "    if number % 7 == 0 and number % 5 == 0:\n",
    "        result.append(number)\n",
    "\n",
    "print(result)"
   ]
  },
  {
   "cell_type": "code",
   "execution_count": 3,
   "id": "ecdc46b7-ba23-4069-954c-c67cf4281bb1",
   "metadata": {},
   "outputs": [
    {
     "name": "stdout",
     "output_type": "stream",
     "text": [
      "[1500, 1512, 1524, 1536, 1548, 1560, 1572, 1584, 1596, 1608, 1620, 1632, 1644, 1656, 1668, 1680, 1692, 1704, 1716, 1728, 1740, 1752, 1764, 1776, 1788, 1800, 1812, 1824, 1836, 1848, 1860, 1872, 1884, 1896, 1908, 1920, 1932, 1944, 1956, 1968, 1980, 1992, 2004, 2016, 2028, 2040, 2052, 2064, 2076, 2088, 2100, 2112, 2124, 2136, 2148, 2160, 2172, 2184, 2196, 2208, 2220, 2232, 2244, 2256, 2268, 2280, 2292, 2304, 2316, 2328, 2340, 2352, 2364, 2376, 2388, 2400, 2412, 2424, 2436, 2448, 2460, 2472, 2484, 2496, 2508, 2520, 2532, 2544, 2556, 2568, 2580, 2592, 2604, 2616, 2628, 2640, 2652, 2664, 2676, 2688, 2700]\n"
     ]
    }
   ],
   "source": [
    "#list to store the numbers\n",
    "result = []\n",
    "\n",
    "#loop through numbers from 1500 to 2700\n",
    "for number in range(1500, 2701):\n",
    "    if number % 4 == 0 and number % 6 == 0:\n",
    "        result.append(number)\n",
    "\n",
    "print(result)"
   ]
  },
  {
   "cell_type": "code",
   "execution_count": 6,
   "id": "303c5286-f58c-4fb2-99df-122a64240fcc",
   "metadata": {},
   "outputs": [
    {
     "name": "stdout",
     "output_type": "stream",
     "text": [
      "5\n"
     ]
    }
   ],
   "source": [
    "num1 = 2\n",
    "num2 = 3\n",
    "sum = num1 + num2\n",
    "print(sum)"
   ]
  },
  {
   "cell_type": "code",
   "execution_count": 7,
   "id": "6c9b5cc0-ad47-461d-acdd-6292829f366f",
   "metadata": {},
   "outputs": [
    {
     "name": "stdout",
     "output_type": "stream",
     "text": [
      "The maximum of 20 and 25 is: 25\n"
     ]
    }
   ],
   "source": [
    "# Assigning two numbers\n",
    "num1 = 20\n",
    "num2 = 25\n",
    "\n",
    "# Checking which number is greater\n",
    "if num1 > num2:\n",
    "    maximum = num1  # If num1 is greater, assign it to maximum\n",
    "else:\n",
    "    maximum = num2  # Otherwise, assign num2 to maximum\n",
    "\n",
    "# Display the result\n",
    "print(f\"The maximum of {num1} and {num2} is: {maximum}\")"
   ]
  },
  {
   "cell_type": "code",
   "execution_count": 9,
   "id": "01ccb6dd-647c-4bc6-859a-ec351009cb67",
   "metadata": {},
   "outputs": [
    {
     "name": "stdout",
     "output_type": "stream",
     "text": [
      "The factorial of 5 is 120\n"
     ]
    }
   ],
   "source": [
    "# Function to calculate factorial\n",
    "def factorial(n):\n",
    "    if n == 0:\n",
    "        return 1\n",
    "    else:\n",
    "        return n * factorial(n - 1)\n",
    "\n",
    "# Number to calculate factorial for\n",
    "number = 5\n",
    "\n",
    "# Calculate factorial\n",
    "result = factorial(number)\n",
    "\n",
    "# Print the result\n",
    "print(\"The factorial of\", number, \"is\", result)"
   ]
  },
  {
   "cell_type": "code",
   "execution_count": 10,
   "id": "9513dd20-344c-4e34-8907-d038ceff7923",
   "metadata": {},
   "outputs": [
    {
     "name": "stdout",
     "output_type": "stream",
     "text": [
      "The simple interest is: 6.0\n"
     ]
    }
   ],
   "source": [
    "# Given values\n",
    "principal = 100  \n",
    "rate = 3          \n",
    "time = 2          \n",
    "\n",
    "# Calculate simple interest\n",
    "interest = (principal * rate * time) / 100\n",
    "\n",
    "# Display the result\n",
    "print(f\"The simple interest is: {interest}\")\n"
   ]
  },
  {
   "cell_type": "code",
   "execution_count": 11,
   "id": "0e051c92-f7cf-463b-b4d2-78d0236ed726",
   "metadata": {},
   "outputs": [
    {
     "name": "stdout",
     "output_type": "stream",
     "text": [
      "The compound interest is: 16.08\n"
     ]
    }
   ],
   "source": [
    "# Given values\n",
    "principal = 100  \n",
    "rate = 5         \n",
    "time = 3          \n",
    "n = 4            \n",
    "\n",
    "# Calculate compound interest\n",
    "amount = principal * (1 + rate / (100 * n))**(n * time)\n",
    "compound_interest = amount - principal\n",
    "\n",
    "# Display the result\n",
    "print(f\"The compound interest is: {compound_interest:.2f}\")\n"
   ]
  },
  {
   "cell_type": "code",
   "execution_count": 15,
   "id": "6c314915-a46b-4783-867f-d11d995f20d5",
   "metadata": {},
   "outputs": [
    {
     "name": "stdout",
     "output_type": "stream",
     "text": [
      "The area of the circle is: 78.54\n"
     ]
    }
   ],
   "source": [
    "radius = 5\n",
    "pi = 3.14159\n",
    "area = pi * radius ** 2\n",
    "print(f\"The area of the circle is: {area:.2f}\")\n",
    "\n"
   ]
  },
  {
   "cell_type": "code",
   "execution_count": 16,
   "id": "5ed4bab6-8c5b-4d2a-af7e-0761ee87ade0",
   "metadata": {},
   "outputs": [
    {
     "name": "stdout",
     "output_type": "stream",
     "text": [
      "11\n",
      "13\n",
      "17\n",
      "19\n",
      "23\n",
      "29\n",
      "31\n",
      "37\n",
      "41\n",
      "43\n",
      "47\n"
     ]
    }
   ],
   "source": [
    "start = 10\n",
    "end = 50\n",
    "\n",
    "for num in range(start, end + 1):\n",
    "    if num > 1:\n",
    "        for i in range(2, int(num ** 0.5) + 1):\n",
    "            if num % i == 0:\n",
    "                break\n",
    "        else:\n",
    "            print(num)\n"
   ]
  },
  {
   "cell_type": "code",
   "execution_count": 17,
   "id": "a245a81a-dcc5-4a55-afc5-689d690728bd",
   "metadata": {},
   "outputs": [
    {
     "name": "stdout",
     "output_type": "stream",
     "text": [
      "10 is not a prime number.\n"
     ]
    }
   ],
   "source": [
    "number = 10\n",
    "\n",
    "if number > 1:\n",
    "    for i in range(2, int(number ** 0.5) + 1):\n",
    "        if number % i == 0:\n",
    "            print(f\"{number} is not a prime number.\")\n",
    "            break\n",
    "    else:\n",
    "        print(f\"{number} is a prime number.\")\n",
    "else:\n",
    "    print(f\"{number} is not a prime number.\")\n"
   ]
  },
  {
   "cell_type": "code",
   "execution_count": null,
   "id": "f8ff6eb0-2a3d-48e4-9c72-cba27bc81e01",
   "metadata": {},
   "outputs": [],
   "source": []
  }
 ],
 "metadata": {
  "kernelspec": {
   "display_name": "Python 3 (ipykernel)",
   "language": "python",
   "name": "python3"
  },
  "language_info": {
   "codemirror_mode": {
    "name": "ipython",
    "version": 3
   },
   "file_extension": ".py",
   "mimetype": "text/x-python",
   "name": "python",
   "nbconvert_exporter": "python",
   "pygments_lexer": "ipython3",
   "version": "3.12.4"
  }
 },
 "nbformat": 4,
 "nbformat_minor": 5
}
